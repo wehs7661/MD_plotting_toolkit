{
 "cells": [
  {
   "cell_type": "markdown",
   "id": "stuck-hawaiian",
   "metadata": {},
   "source": [
    "# Example input data for the tutorials"
   ]
  },
  {
   "cell_type": "markdown",
   "id": "shared-narrative",
   "metadata": {},
   "source": [
    "To demonstrate the usage of the commands made available in our package, \n",
    "we provide some exampe inpu data that are used in our tutorials. The example \n",
    "inputs are stored in the following to folders:"
   ]
  },
  {
   "cell_type": "markdown",
   "id": "suited-miller",
   "metadata": {},
   "source": [
    "- `MD_plotting_toolkit/data/`:\n",
    "  - `HILLS_2D`:  A file containing 6 time series. As shown below, there are \n",
    "  seven columns in the file `HILLS_2D`, with the first one containing the data \n",
    "  of the independent variable and the remaining containing the time series of \n",
    "  the dependent variables.\n",
    "  - `fes_*.dat`: Four different files containing free energy as a function of \n",
    "  number of waters.\n",
    "- `MD_plotting_toolkit/tests/sample_inputs`:\n",
    "  - `corrupted_HILLS`: A corrupted HILLS file. "
   ]
  },
  {
   "cell_type": "markdown",
   "id": "labeled-there",
   "metadata": {},
   "source": [
    "Below we check the content of the example inputs to get a better sense about them."
   ]
  },
  {
   "cell_type": "code",
   "execution_count": 1,
   "id": "secondary-hearing",
   "metadata": {},
   "outputs": [
    {
     "name": "stdout",
     "output_type": "stream",
     "text": [
      "#! FIELDS time theta lambda sigma_theta sigma_lambda height biasf\n",
      "#! SET multivariate false\n",
      "#! SET kerneltype gaussian\n",
      "#! SET min_theta -pi\n",
      "#! SET max_theta pi\n",
      "      1.000000047497451      1.560902096697373                      0                    0.5                 0.0001      2.535296122765038                     45\n",
      "      2.000000094994903      1.374514512746895                      0                    0.5                 0.0001      2.482082699954732                     45\n",
      "      3.000000142492354      1.217669336286091                      0                    0.5                 0.0001      2.437937383689416                     45\n",
      "      4.000000189989805      1.785660863475474                      0                    0.5                 0.0001      2.416721849636847                     45\n",
      "      5.000000237487257      1.656332583179113                      0                    0.5                 0.0001      2.347022565098163                     45\n"
     ]
    }
   ],
   "source": [
    "%%bash\n",
    "head ../../MD_plotting_toolkit/data/HILLS_2D"
   ]
  },
  {
   "cell_type": "code",
   "execution_count": 2,
   "id": "adjacent-declaration",
   "metadata": {},
   "outputs": [
    {
     "name": "stdout",
     "output_type": "stream",
     "text": [
      "#! FIELDS n projection\n",
      "#! SET min_n -3.08291\n",
      "#! SET max_n 32.9676\n",
      "#! SET nbins_n  203\n",
      "#! SET periodic_n false\n",
      "   -3.082910000  490.604904318\n",
      "   -2.904442129  490.588282125\n",
      "   -2.725974257  490.524435500\n",
      "   -2.547506386  490.428702125\n",
      "   -2.369038515  490.285803049\n"
     ]
    }
   ],
   "source": [
    "%%bash\n",
    "head ../../MD_plotting_toolkit/data/fes_1.dat"
   ]
  },
  {
   "cell_type": "markdown",
   "id": "tough-miniature",
   "metadata": {},
   "source": [
    "Note that other files in the folder `MD_plotting_toolkit/tests/sample_inputs` are mainly for unit tests of the modules in this package."
   ]
  }
 ],
 "metadata": {
  "kernelspec": {
   "display_name": "Python 3",
   "language": "python",
   "name": "python3"
  },
  "language_info": {
   "codemirror_mode": {
    "name": "ipython",
    "version": 3
   },
   "file_extension": ".py",
   "mimetype": "text/x-python",
   "name": "python",
   "nbconvert_exporter": "python",
   "pygments_lexer": "ipython3",
   "version": "3.9.5"
  }
 },
 "nbformat": 4,
 "nbformat_minor": 5
}

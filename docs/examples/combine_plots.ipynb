{
 "cells": [
  {
   "cell_type": "markdown",
   "id": "inner-poster",
   "metadata": {},
   "source": [
    "# Basic usage of `combine_plots`"
   ]
  },
  {
   "cell_type": "markdown",
   "id": "instrumental-gilbert",
   "metadata": {},
   "source": []
  }
 ],
 "metadata": {
  "kernelspec": {
   "display_name": "Python 3",
   "language": "python",
   "name": "python3"
  },
  "language_info": {
   "codemirror_mode": {
    "name": "ipython",
    "version": 3
   },
   "file_extension": ".py",
   "mimetype": "text/x-python",
   "name": "python",
   "nbconvert_exporter": "python",
   "pygments_lexer": "ipython3",
   "version": "3.9.5"
  }
 },
 "nbformat": 4,
 "nbformat_minor": 5
}
